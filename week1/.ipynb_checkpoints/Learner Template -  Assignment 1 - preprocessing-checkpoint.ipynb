{
 "cells": [
  {
   "cell_type": "markdown",
   "metadata": {
    "deletable": false,
    "editable": false
   },
   "source": [
    "# Text Acquisition and Pre-processing\n",
    "\n",
    "In this assignment you will practice obtaining, extracting, cleaning and pre-processing text from an online source. The objective is to obtain the text from a web page and generate a **pandas** DataFrame containing the text segmented, tokenized and with different types of linguistic annotations.\n",
    "\n",
    "You will work with the following objects and functions:"
   ]
  },
  {
   "cell_type": "code",
   "execution_count": 1,
   "metadata": {
    "tags": []
   },
   "outputs": [
    {
     "name": "stdout",
     "output_type": "stream",
     "text": [
      "Requirement already satisfied: ipython==8.5.0 in /Users/lngeorge/anaconda3/lib/python3.10/site-packages (from -r requirements.txt (line 1)) (8.5.0)\n",
      "Requirement already satisfied: jupyter==1.0.0 in /Users/lngeorge/anaconda3/lib/python3.10/site-packages (from -r requirements.txt (line 2)) (1.0.0)\n",
      "Requirement already satisfied: nbimporter==0.3.4 in /Users/lngeorge/anaconda3/lib/python3.10/site-packages (from -r requirements.txt (line 3)) (0.3.4)\n",
      "Requirement already satisfied: pandas==1.3.5 in /Users/lngeorge/anaconda3/lib/python3.10/site-packages (from -r requirements.txt (line 4)) (1.3.5)\n",
      "Requirement already satisfied: spacy==3.2.4 in /Users/lngeorge/anaconda3/lib/python3.10/site-packages (from -r requirements.txt (line 5)) (3.2.4)\n",
      "Requirement already satisfied: bs4==0.0.1 in /Users/lngeorge/anaconda3/lib/python3.10/site-packages (from -r requirements.txt (line 6)) (0.0.1)\n",
      "Requirement already satisfied: pytest==7.1.3 in /Users/lngeorge/anaconda3/lib/python3.10/site-packages (from -r requirements.txt (line 7)) (7.1.3)\n",
      "Requirement already satisfied: backcall in /Users/lngeorge/anaconda3/lib/python3.10/site-packages (from ipython==8.5.0->-r requirements.txt (line 1)) (0.2.0)\n",
      "Requirement already satisfied: decorator in /Users/lngeorge/anaconda3/lib/python3.10/site-packages (from ipython==8.5.0->-r requirements.txt (line 1)) (5.1.1)\n",
      "Requirement already satisfied: jedi>=0.16 in /Users/lngeorge/anaconda3/lib/python3.10/site-packages (from ipython==8.5.0->-r requirements.txt (line 1)) (0.19.1)\n",
      "Requirement already satisfied: matplotlib-inline in /Users/lngeorge/anaconda3/lib/python3.10/site-packages (from ipython==8.5.0->-r requirements.txt (line 1)) (0.1.6)\n",
      "Requirement already satisfied: pickleshare in /Users/lngeorge/anaconda3/lib/python3.10/site-packages (from ipython==8.5.0->-r requirements.txt (line 1)) (0.7.5)\n",
      "Requirement already satisfied: prompt-toolkit<3.1.0,>3.0.1 in /Users/lngeorge/anaconda3/lib/python3.10/site-packages (from ipython==8.5.0->-r requirements.txt (line 1)) (3.0.43)\n",
      "Requirement already satisfied: pygments>=2.4.0 in /Users/lngeorge/anaconda3/lib/python3.10/site-packages (from ipython==8.5.0->-r requirements.txt (line 1)) (2.15.1)\n",
      "Requirement already satisfied: stack-data in /Users/lngeorge/anaconda3/lib/python3.10/site-packages (from ipython==8.5.0->-r requirements.txt (line 1)) (0.2.0)\n",
      "Requirement already satisfied: traitlets>=5 in /Users/lngeorge/anaconda3/lib/python3.10/site-packages (from ipython==8.5.0->-r requirements.txt (line 1)) (5.7.1)\n",
      "Requirement already satisfied: pexpect>4.3 in /Users/lngeorge/anaconda3/lib/python3.10/site-packages (from ipython==8.5.0->-r requirements.txt (line 1)) (4.9.0)\n",
      "Requirement already satisfied: appnope in /Users/lngeorge/anaconda3/lib/python3.10/site-packages (from ipython==8.5.0->-r requirements.txt (line 1)) (0.1.2)\n",
      "Requirement already satisfied: notebook in /Users/lngeorge/anaconda3/lib/python3.10/site-packages (from jupyter==1.0.0->-r requirements.txt (line 2)) (6.5.2)\n",
      "Requirement already satisfied: qtconsole in /Users/lngeorge/anaconda3/lib/python3.10/site-packages (from jupyter==1.0.0->-r requirements.txt (line 2)) (5.4.2)\n",
      "Requirement already satisfied: jupyter-console in /Users/lngeorge/anaconda3/lib/python3.10/site-packages (from jupyter==1.0.0->-r requirements.txt (line 2)) (6.6.3)\n",
      "Requirement already satisfied: nbconvert in /Users/lngeorge/anaconda3/lib/python3.10/site-packages (from jupyter==1.0.0->-r requirements.txt (line 2)) (7.10.0)\n",
      "Requirement already satisfied: ipykernel in /Users/lngeorge/anaconda3/lib/python3.10/site-packages (from jupyter==1.0.0->-r requirements.txt (line 2)) (6.25.0)\n",
      "Requirement already satisfied: ipywidgets in /Users/lngeorge/anaconda3/lib/python3.10/site-packages (from jupyter==1.0.0->-r requirements.txt (line 2)) (8.1.2)\n",
      "Requirement already satisfied: python-dateutil>=2.7.3 in /Users/lngeorge/anaconda3/lib/python3.10/site-packages (from pandas==1.3.5->-r requirements.txt (line 4)) (2.8.2)\n",
      "Requirement already satisfied: pytz>=2017.3 in /Users/lngeorge/anaconda3/lib/python3.10/site-packages (from pandas==1.3.5->-r requirements.txt (line 4)) (2023.3.post1)\n",
      "Requirement already satisfied: numpy>=1.21.0 in /Users/lngeorge/anaconda3/lib/python3.10/site-packages (from pandas==1.3.5->-r requirements.txt (line 4)) (1.25.2)\n",
      "Requirement already satisfied: spacy-legacy<3.1.0,>=3.0.8 in /Users/lngeorge/anaconda3/lib/python3.10/site-packages (from spacy==3.2.4->-r requirements.txt (line 5)) (3.0.12)\n",
      "Requirement already satisfied: spacy-loggers<2.0.0,>=1.0.0 in /Users/lngeorge/anaconda3/lib/python3.10/site-packages (from spacy==3.2.4->-r requirements.txt (line 5)) (1.0.4)\n",
      "Requirement already satisfied: murmurhash<1.1.0,>=0.28.0 in /Users/lngeorge/anaconda3/lib/python3.10/site-packages (from spacy==3.2.4->-r requirements.txt (line 5)) (1.0.10)\n",
      "Requirement already satisfied: cymem<2.1.0,>=2.0.2 in /Users/lngeorge/anaconda3/lib/python3.10/site-packages (from spacy==3.2.4->-r requirements.txt (line 5)) (2.0.6)\n",
      "Requirement already satisfied: preshed<3.1.0,>=3.0.2 in /Users/lngeorge/anaconda3/lib/python3.10/site-packages (from spacy==3.2.4->-r requirements.txt (line 5)) (3.0.6)\n",
      "Requirement already satisfied: thinc<8.1.0,>=8.0.12 in /Users/lngeorge/anaconda3/lib/python3.10/site-packages (from spacy==3.2.4->-r requirements.txt (line 5)) (8.0.17)\n",
      "Requirement already satisfied: blis<0.8.0,>=0.4.0 in /Users/lngeorge/anaconda3/lib/python3.10/site-packages (from spacy==3.2.4->-r requirements.txt (line 5)) (0.7.11)\n",
      "Requirement already satisfied: wasabi<1.1.0,>=0.8.1 in /Users/lngeorge/anaconda3/lib/python3.10/site-packages (from spacy==3.2.4->-r requirements.txt (line 5)) (0.9.1)\n",
      "Requirement already satisfied: srsly<3.0.0,>=2.4.1 in /Users/lngeorge/anaconda3/lib/python3.10/site-packages (from spacy==3.2.4->-r requirements.txt (line 5)) (2.4.8)\n",
      "Requirement already satisfied: catalogue<2.1.0,>=2.0.6 in /Users/lngeorge/anaconda3/lib/python3.10/site-packages (from spacy==3.2.4->-r requirements.txt (line 5)) (2.0.10)\n",
      "Requirement already satisfied: typer<0.5.0,>=0.3.0 in /Users/lngeorge/anaconda3/lib/python3.10/site-packages (from spacy==3.2.4->-r requirements.txt (line 5)) (0.4.1)\n",
      "Requirement already satisfied: click<8.1.0 in /Users/lngeorge/anaconda3/lib/python3.10/site-packages (from spacy==3.2.4->-r requirements.txt (line 5)) (8.0.4)\n",
      "Requirement already satisfied: pathy>=0.3.5 in /Users/lngeorge/anaconda3/lib/python3.10/site-packages (from spacy==3.2.4->-r requirements.txt (line 5)) (0.10.3)\n",
      "Requirement already satisfied: tqdm<5.0.0,>=4.38.0 in /Users/lngeorge/anaconda3/lib/python3.10/site-packages (from spacy==3.2.4->-r requirements.txt (line 5)) (4.65.0)\n",
      "Requirement already satisfied: requests<3.0.0,>=2.13.0 in /Users/lngeorge/anaconda3/lib/python3.10/site-packages (from spacy==3.2.4->-r requirements.txt (line 5)) (2.31.0)\n",
      "Requirement already satisfied: pydantic!=1.8,!=1.8.1,<1.9.0,>=1.7.4 in /Users/lngeorge/anaconda3/lib/python3.10/site-packages (from spacy==3.2.4->-r requirements.txt (line 5)) (1.8.2)\n",
      "Requirement already satisfied: jinja2 in /Users/lngeorge/anaconda3/lib/python3.10/site-packages (from spacy==3.2.4->-r requirements.txt (line 5)) (3.1.2)\n",
      "Requirement already satisfied: setuptools in /Users/lngeorge/anaconda3/lib/python3.10/site-packages (from spacy==3.2.4->-r requirements.txt (line 5)) (68.0.0)\n",
      "Requirement already satisfied: packaging>=20.0 in /Users/lngeorge/anaconda3/lib/python3.10/site-packages (from spacy==3.2.4->-r requirements.txt (line 5)) (23.1)\n",
      "Requirement already satisfied: langcodes<4.0.0,>=3.2.0 in /Users/lngeorge/anaconda3/lib/python3.10/site-packages (from spacy==3.2.4->-r requirements.txt (line 5)) (3.3.0)\n",
      "Requirement already satisfied: beautifulsoup4 in /Users/lngeorge/anaconda3/lib/python3.10/site-packages (from bs4==0.0.1->-r requirements.txt (line 6)) (4.12.2)\n",
      "Requirement already satisfied: attrs>=19.2.0 in /Users/lngeorge/anaconda3/lib/python3.10/site-packages (from pytest==7.1.3->-r requirements.txt (line 7)) (23.1.0)\n",
      "Requirement already satisfied: iniconfig in /Users/lngeorge/anaconda3/lib/python3.10/site-packages (from pytest==7.1.3->-r requirements.txt (line 7)) (1.1.1)\n",
      "Requirement already satisfied: pluggy<2.0,>=0.12 in /Users/lngeorge/anaconda3/lib/python3.10/site-packages (from pytest==7.1.3->-r requirements.txt (line 7)) (1.0.0)\n",
      "Requirement already satisfied: py>=1.8.2 in /Users/lngeorge/anaconda3/lib/python3.10/site-packages (from pytest==7.1.3->-r requirements.txt (line 7)) (1.11.0)\n",
      "Requirement already satisfied: tomli>=1.0.0 in /Users/lngeorge/anaconda3/lib/python3.10/site-packages (from pytest==7.1.3->-r requirements.txt (line 7)) (2.0.1)\n",
      "Requirement already satisfied: parso<0.9.0,>=0.8.3 in /Users/lngeorge/anaconda3/lib/python3.10/site-packages (from jedi>=0.16->ipython==8.5.0->-r requirements.txt (line 1)) (0.8.4)\n",
      "Requirement already satisfied: smart-open<7.0.0,>=5.2.1 in /Users/lngeorge/anaconda3/lib/python3.10/site-packages (from pathy>=0.3.5->spacy==3.2.4->-r requirements.txt (line 5)) (5.2.1)\n",
      "Requirement already satisfied: ptyprocess>=0.5 in /Users/lngeorge/anaconda3/lib/python3.10/site-packages (from pexpect>4.3->ipython==8.5.0->-r requirements.txt (line 1)) (0.7.0)\n",
      "Requirement already satisfied: wcwidth in /Users/lngeorge/anaconda3/lib/python3.10/site-packages (from prompt-toolkit<3.1.0,>3.0.1->ipython==8.5.0->-r requirements.txt (line 1)) (0.2.13)\n",
      "Requirement already satisfied: typing-extensions>=3.7.4.3 in /Users/lngeorge/anaconda3/lib/python3.10/site-packages (from pydantic!=1.8,!=1.8.1,<1.9.0,>=1.7.4->spacy==3.2.4->-r requirements.txt (line 5)) (4.7.1)\n",
      "Requirement already satisfied: six>=1.5 in /Users/lngeorge/anaconda3/lib/python3.10/site-packages (from python-dateutil>=2.7.3->pandas==1.3.5->-r requirements.txt (line 4)) (1.16.0)\n",
      "Requirement already satisfied: charset-normalizer<4,>=2 in /Users/lngeorge/anaconda3/lib/python3.10/site-packages (from requests<3.0.0,>=2.13.0->spacy==3.2.4->-r requirements.txt (line 5)) (2.0.4)\n",
      "Requirement already satisfied: idna<4,>=2.5 in /Users/lngeorge/anaconda3/lib/python3.10/site-packages (from requests<3.0.0,>=2.13.0->spacy==3.2.4->-r requirements.txt (line 5)) (3.4)\n",
      "Requirement already satisfied: urllib3<3,>=1.21.1 in /Users/lngeorge/anaconda3/lib/python3.10/site-packages (from requests<3.0.0,>=2.13.0->spacy==3.2.4->-r requirements.txt (line 5)) (1.26.18)\n",
      "Requirement already satisfied: certifi>=2017.4.17 in /Users/lngeorge/anaconda3/lib/python3.10/site-packages (from requests<3.0.0,>=2.13.0->spacy==3.2.4->-r requirements.txt (line 5)) (2024.2.2)\n",
      "Requirement already satisfied: soupsieve>1.2 in /Users/lngeorge/anaconda3/lib/python3.10/site-packages (from beautifulsoup4->bs4==0.0.1->-r requirements.txt (line 6)) (2.5)\n",
      "Requirement already satisfied: comm>=0.1.1 in /Users/lngeorge/anaconda3/lib/python3.10/site-packages (from ipykernel->jupyter==1.0.0->-r requirements.txt (line 2)) (0.2.2)\n",
      "Requirement already satisfied: debugpy>=1.6.5 in /Users/lngeorge/anaconda3/lib/python3.10/site-packages (from ipykernel->jupyter==1.0.0->-r requirements.txt (line 2)) (1.6.7)\n",
      "Requirement already satisfied: jupyter-client>=6.1.12 in /Users/lngeorge/anaconda3/lib/python3.10/site-packages (from ipykernel->jupyter==1.0.0->-r requirements.txt (line 2)) (8.6.0)\n",
      "Requirement already satisfied: jupyter-core!=5.0.*,>=4.12 in /Users/lngeorge/anaconda3/lib/python3.10/site-packages (from ipykernel->jupyter==1.0.0->-r requirements.txt (line 2)) (5.5.0)\n",
      "Requirement already satisfied: nest-asyncio in /Users/lngeorge/anaconda3/lib/python3.10/site-packages (from ipykernel->jupyter==1.0.0->-r requirements.txt (line 2)) (1.5.6)\n",
      "Requirement already satisfied: psutil in /Users/lngeorge/anaconda3/lib/python3.10/site-packages (from ipykernel->jupyter==1.0.0->-r requirements.txt (line 2)) (5.9.0)\n",
      "Requirement already satisfied: pyzmq>=20 in /Users/lngeorge/anaconda3/lib/python3.10/site-packages (from ipykernel->jupyter==1.0.0->-r requirements.txt (line 2)) (25.1.0)\n",
      "Requirement already satisfied: tornado>=6.1 in /Users/lngeorge/anaconda3/lib/python3.10/site-packages (from ipykernel->jupyter==1.0.0->-r requirements.txt (line 2)) (6.3.3)\n",
      "Requirement already satisfied: widgetsnbextension~=4.0.10 in /Users/lngeorge/anaconda3/lib/python3.10/site-packages (from ipywidgets->jupyter==1.0.0->-r requirements.txt (line 2)) (4.0.10)\n",
      "Requirement already satisfied: jupyterlab-widgets~=3.0.10 in /Users/lngeorge/anaconda3/lib/python3.10/site-packages (from ipywidgets->jupyter==1.0.0->-r requirements.txt (line 2)) (3.0.10)\n",
      "Requirement already satisfied: MarkupSafe>=2.0 in /Users/lngeorge/anaconda3/lib/python3.10/site-packages (from jinja2->spacy==3.2.4->-r requirements.txt (line 5)) (2.1.1)\n",
      "Requirement already satisfied: bleach!=5.0.0 in /Users/lngeorge/anaconda3/lib/python3.10/site-packages (from nbconvert->jupyter==1.0.0->-r requirements.txt (line 2)) (4.1.0)\n",
      "Requirement already satisfied: defusedxml in /Users/lngeorge/anaconda3/lib/python3.10/site-packages (from nbconvert->jupyter==1.0.0->-r requirements.txt (line 2)) (0.7.1)\n",
      "Requirement already satisfied: jupyterlab-pygments in /Users/lngeorge/anaconda3/lib/python3.10/site-packages (from nbconvert->jupyter==1.0.0->-r requirements.txt (line 2)) (0.1.2)\n",
      "Requirement already satisfied: mistune<4,>=2.0.3 in /Users/lngeorge/anaconda3/lib/python3.10/site-packages (from nbconvert->jupyter==1.0.0->-r requirements.txt (line 2)) (2.0.4)\n",
      "Requirement already satisfied: nbclient>=0.5.0 in /Users/lngeorge/anaconda3/lib/python3.10/site-packages (from nbconvert->jupyter==1.0.0->-r requirements.txt (line 2)) (0.8.0)\n",
      "Requirement already satisfied: nbformat>=5.7 in /Users/lngeorge/anaconda3/lib/python3.10/site-packages (from nbconvert->jupyter==1.0.0->-r requirements.txt (line 2)) (5.9.2)\n",
      "Requirement already satisfied: pandocfilters>=1.4.1 in /Users/lngeorge/anaconda3/lib/python3.10/site-packages (from nbconvert->jupyter==1.0.0->-r requirements.txt (line 2)) (1.5.0)\n",
      "Requirement already satisfied: tinycss2 in /Users/lngeorge/anaconda3/lib/python3.10/site-packages (from nbconvert->jupyter==1.0.0->-r requirements.txt (line 2)) (1.2.1)\n",
      "Requirement already satisfied: argon2-cffi in /Users/lngeorge/anaconda3/lib/python3.10/site-packages (from notebook->jupyter==1.0.0->-r requirements.txt (line 2)) (21.3.0)\n",
      "Requirement already satisfied: ipython-genutils in /Users/lngeorge/anaconda3/lib/python3.10/site-packages (from notebook->jupyter==1.0.0->-r requirements.txt (line 2)) (0.2.0)\n",
      "Requirement already satisfied: Send2Trash>=1.8.0 in /Users/lngeorge/anaconda3/lib/python3.10/site-packages (from notebook->jupyter==1.0.0->-r requirements.txt (line 2)) (1.8.2)\n",
      "Requirement already satisfied: terminado>=0.8.3 in /Users/lngeorge/anaconda3/lib/python3.10/site-packages (from notebook->jupyter==1.0.0->-r requirements.txt (line 2)) (0.17.1)\n",
      "Requirement already satisfied: prometheus-client in /Users/lngeorge/anaconda3/lib/python3.10/site-packages (from notebook->jupyter==1.0.0->-r requirements.txt (line 2)) (0.14.1)\n",
      "Requirement already satisfied: nbclassic>=0.4.7 in /Users/lngeorge/anaconda3/lib/python3.10/site-packages (from notebook->jupyter==1.0.0->-r requirements.txt (line 2)) (1.0.0)\n",
      "Requirement already satisfied: qtpy>=2.0.1 in /Users/lngeorge/anaconda3/lib/python3.10/site-packages (from qtconsole->jupyter==1.0.0->-r requirements.txt (line 2)) (2.4.1)\n",
      "Requirement already satisfied: executing in /Users/lngeorge/anaconda3/lib/python3.10/site-packages (from stack-data->ipython==8.5.0->-r requirements.txt (line 1)) (0.8.3)\n",
      "Requirement already satisfied: asttokens in /Users/lngeorge/anaconda3/lib/python3.10/site-packages (from stack-data->ipython==8.5.0->-r requirements.txt (line 1)) (2.0.5)\n",
      "Requirement already satisfied: pure-eval in /Users/lngeorge/anaconda3/lib/python3.10/site-packages (from stack-data->ipython==8.5.0->-r requirements.txt (line 1)) (0.2.2)\n",
      "Requirement already satisfied: webencodings in /Users/lngeorge/anaconda3/lib/python3.10/site-packages (from bleach!=5.0.0->nbconvert->jupyter==1.0.0->-r requirements.txt (line 2)) (0.5.1)\n",
      "Requirement already satisfied: platformdirs>=2.5 in /Users/lngeorge/anaconda3/lib/python3.10/site-packages (from jupyter-core!=5.0.*,>=4.12->ipykernel->jupyter==1.0.0->-r requirements.txt (line 2)) (3.10.0)\n",
      "Requirement already satisfied: jupyter-server>=1.8 in /Users/lngeorge/anaconda3/lib/python3.10/site-packages (from nbclassic>=0.4.7->notebook->jupyter==1.0.0->-r requirements.txt (line 2)) (2.10.0)\n",
      "Requirement already satisfied: notebook-shim>=0.2.3 in /Users/lngeorge/anaconda3/lib/python3.10/site-packages (from nbclassic>=0.4.7->notebook->jupyter==1.0.0->-r requirements.txt (line 2)) (0.2.3)\n",
      "Requirement already satisfied: fastjsonschema in /Users/lngeorge/anaconda3/lib/python3.10/site-packages (from nbformat>=5.7->nbconvert->jupyter==1.0.0->-r requirements.txt (line 2)) (2.16.2)\n",
      "Requirement already satisfied: jsonschema>=2.6 in /Users/lngeorge/anaconda3/lib/python3.10/site-packages (from nbformat>=5.7->nbconvert->jupyter==1.0.0->-r requirements.txt (line 2)) (4.19.2)\n",
      "Requirement already satisfied: argon2-cffi-bindings in /Users/lngeorge/anaconda3/lib/python3.10/site-packages (from argon2-cffi->notebook->jupyter==1.0.0->-r requirements.txt (line 2)) (21.2.0)\n",
      "Requirement already satisfied: jsonschema-specifications>=2023.03.6 in /Users/lngeorge/anaconda3/lib/python3.10/site-packages (from jsonschema>=2.6->nbformat>=5.7->nbconvert->jupyter==1.0.0->-r requirements.txt (line 2)) (2023.7.1)\n",
      "Requirement already satisfied: referencing>=0.28.4 in /Users/lngeorge/anaconda3/lib/python3.10/site-packages (from jsonschema>=2.6->nbformat>=5.7->nbconvert->jupyter==1.0.0->-r requirements.txt (line 2)) (0.30.2)\n",
      "Requirement already satisfied: rpds-py>=0.7.1 in /Users/lngeorge/anaconda3/lib/python3.10/site-packages (from jsonschema>=2.6->nbformat>=5.7->nbconvert->jupyter==1.0.0->-r requirements.txt (line 2)) (0.10.6)\n",
      "Requirement already satisfied: anyio>=3.1.0 in /Users/lngeorge/anaconda3/lib/python3.10/site-packages (from jupyter-server>=1.8->nbclassic>=0.4.7->notebook->jupyter==1.0.0->-r requirements.txt (line 2)) (3.5.0)\n",
      "Requirement already satisfied: jupyter-events>=0.6.0 in /Users/lngeorge/anaconda3/lib/python3.10/site-packages (from jupyter-server>=1.8->nbclassic>=0.4.7->notebook->jupyter==1.0.0->-r requirements.txt (line 2)) (0.8.0)\n",
      "Requirement already satisfied: jupyter-server-terminals in /Users/lngeorge/anaconda3/lib/python3.10/site-packages (from jupyter-server>=1.8->nbclassic>=0.4.7->notebook->jupyter==1.0.0->-r requirements.txt (line 2)) (0.4.4)\n",
      "Requirement already satisfied: overrides in /Users/lngeorge/anaconda3/lib/python3.10/site-packages (from jupyter-server>=1.8->nbclassic>=0.4.7->notebook->jupyter==1.0.0->-r requirements.txt (line 2)) (7.4.0)\n",
      "Requirement already satisfied: websocket-client in /Users/lngeorge/anaconda3/lib/python3.10/site-packages (from jupyter-server>=1.8->nbclassic>=0.4.7->notebook->jupyter==1.0.0->-r requirements.txt (line 2)) (0.58.0)\n",
      "Requirement already satisfied: cffi>=1.0.1 in /Users/lngeorge/anaconda3/lib/python3.10/site-packages (from argon2-cffi-bindings->argon2-cffi->notebook->jupyter==1.0.0->-r requirements.txt (line 2)) (1.16.0)\n",
      "Requirement already satisfied: sniffio>=1.1 in /Users/lngeorge/anaconda3/lib/python3.10/site-packages (from anyio>=3.1.0->jupyter-server>=1.8->nbclassic>=0.4.7->notebook->jupyter==1.0.0->-r requirements.txt (line 2)) (1.2.0)\n",
      "Requirement already satisfied: pycparser in /Users/lngeorge/anaconda3/lib/python3.10/site-packages (from cffi>=1.0.1->argon2-cffi-bindings->argon2-cffi->notebook->jupyter==1.0.0->-r requirements.txt (line 2)) (2.21)\n",
      "Requirement already satisfied: python-json-logger>=2.0.4 in /Users/lngeorge/anaconda3/lib/python3.10/site-packages (from jupyter-events>=0.6.0->jupyter-server>=1.8->nbclassic>=0.4.7->notebook->jupyter==1.0.0->-r requirements.txt (line 2)) (2.0.7)\n",
      "Requirement already satisfied: pyyaml>=5.3 in /Users/lngeorge/anaconda3/lib/python3.10/site-packages (from jupyter-events>=0.6.0->jupyter-server>=1.8->nbclassic>=0.4.7->notebook->jupyter==1.0.0->-r requirements.txt (line 2)) (6.0.1)\n",
      "Requirement already satisfied: rfc3339-validator in /Users/lngeorge/anaconda3/lib/python3.10/site-packages (from jupyter-events>=0.6.0->jupyter-server>=1.8->nbclassic>=0.4.7->notebook->jupyter==1.0.0->-r requirements.txt (line 2)) (0.1.4)\n",
      "Requirement already satisfied: rfc3986-validator>=0.1.1 in /Users/lngeorge/anaconda3/lib/python3.10/site-packages (from jupyter-events>=0.6.0->jupyter-server>=1.8->nbclassic>=0.4.7->notebook->jupyter==1.0.0->-r requirements.txt (line 2)) (0.1.1)\n",
      "Requirement already satisfied: fqdn in /Users/lngeorge/anaconda3/lib/python3.10/site-packages (from jsonschema[format-nongpl]>=4.18.0->jupyter-events>=0.6.0->jupyter-server>=1.8->nbclassic>=0.4.7->notebook->jupyter==1.0.0->-r requirements.txt (line 2)) (1.5.1)\n",
      "Requirement already satisfied: isoduration in /Users/lngeorge/anaconda3/lib/python3.10/site-packages (from jsonschema[format-nongpl]>=4.18.0->jupyter-events>=0.6.0->jupyter-server>=1.8->nbclassic>=0.4.7->notebook->jupyter==1.0.0->-r requirements.txt (line 2)) (20.11.0)\n",
      "Requirement already satisfied: jsonpointer>1.13 in /Users/lngeorge/anaconda3/lib/python3.10/site-packages (from jsonschema[format-nongpl]>=4.18.0->jupyter-events>=0.6.0->jupyter-server>=1.8->nbclassic>=0.4.7->notebook->jupyter==1.0.0->-r requirements.txt (line 2)) (2.1)\n",
      "Requirement already satisfied: uri-template in /Users/lngeorge/anaconda3/lib/python3.10/site-packages (from jsonschema[format-nongpl]>=4.18.0->jupyter-events>=0.6.0->jupyter-server>=1.8->nbclassic>=0.4.7->notebook->jupyter==1.0.0->-r requirements.txt (line 2)) (1.3.0)\n",
      "Requirement already satisfied: webcolors>=1.11 in /Users/lngeorge/anaconda3/lib/python3.10/site-packages (from jsonschema[format-nongpl]>=4.18.0->jupyter-events>=0.6.0->jupyter-server>=1.8->nbclassic>=0.4.7->notebook->jupyter==1.0.0->-r requirements.txt (line 2)) (1.13)\n",
      "Requirement already satisfied: arrow>=0.15.0 in /Users/lngeorge/anaconda3/lib/python3.10/site-packages (from isoduration->jsonschema[format-nongpl]>=4.18.0->jupyter-events>=0.6.0->jupyter-server>=1.8->nbclassic>=0.4.7->notebook->jupyter==1.0.0->-r requirements.txt (line 2)) (1.3.0)\n",
      "Requirement already satisfied: types-python-dateutil>=2.8.10 in /Users/lngeorge/anaconda3/lib/python3.10/site-packages (from arrow>=0.15.0->isoduration->jsonschema[format-nongpl]>=4.18.0->jupyter-events>=0.6.0->jupyter-server>=1.8->nbclassic>=0.4.7->notebook->jupyter==1.0.0->-r requirements.txt (line 2)) (2.9.0.20240316)\n"
     ]
    }
   ],
   "source": [
    "!pip install -r requirements.txt"
   ]
  },
  {
   "cell_type": "code",
   "execution_count": 2,
   "metadata": {
    "tags": []
   },
   "outputs": [
    {
     "name": "stdout",
     "output_type": "stream",
     "text": [
      "\u001b[33mDEPRECATION: https://github.com/explosion/spacy-models/releases/download/en_core_web_sm-3.2.0/en_core_web_sm-3.2.0-py3-none-any.whl#egg=en_core_web_sm==3.2.0 contains an egg fragment with a non-PEP 508 name pip 25.0 will enforce this behaviour change. A possible replacement is to use the req @ url syntax, and remove the egg fragment. Discussion can be found at https://github.com/pypa/pip/issues/11617\u001b[0m\u001b[33m\n",
      "\u001b[0mCollecting en-core-web-sm==3.2.0\n",
      "  Downloading https://github.com/explosion/spacy-models/releases/download/en_core_web_sm-3.2.0/en_core_web_sm-3.2.0-py3-none-any.whl (13.9 MB)\n",
      "\u001b[2K     \u001b[90m━━━━━━━━━━━━━━━━━━━━━━━━━━━━━━━━━━━━━━━━\u001b[0m \u001b[32m13.9/13.9 MB\u001b[0m \u001b[31m21.3 MB/s\u001b[0m eta \u001b[36m0:00:00\u001b[0m00:01\u001b[0m00:01\u001b[0m\n",
      "\u001b[?25hRequirement already satisfied: spacy<3.3.0,>=3.2.0 in /Users/lngeorge/anaconda3/lib/python3.10/site-packages (from en-core-web-sm==3.2.0) (3.2.4)\n",
      "Requirement already satisfied: spacy-legacy<3.1.0,>=3.0.8 in /Users/lngeorge/anaconda3/lib/python3.10/site-packages (from spacy<3.3.0,>=3.2.0->en-core-web-sm==3.2.0) (3.0.12)\n",
      "Requirement already satisfied: spacy-loggers<2.0.0,>=1.0.0 in /Users/lngeorge/anaconda3/lib/python3.10/site-packages (from spacy<3.3.0,>=3.2.0->en-core-web-sm==3.2.0) (1.0.4)\n",
      "Requirement already satisfied: murmurhash<1.1.0,>=0.28.0 in /Users/lngeorge/anaconda3/lib/python3.10/site-packages (from spacy<3.3.0,>=3.2.0->en-core-web-sm==3.2.0) (1.0.10)\n",
      "Requirement already satisfied: cymem<2.1.0,>=2.0.2 in /Users/lngeorge/anaconda3/lib/python3.10/site-packages (from spacy<3.3.0,>=3.2.0->en-core-web-sm==3.2.0) (2.0.6)\n",
      "Requirement already satisfied: preshed<3.1.0,>=3.0.2 in /Users/lngeorge/anaconda3/lib/python3.10/site-packages (from spacy<3.3.0,>=3.2.0->en-core-web-sm==3.2.0) (3.0.6)\n",
      "Requirement already satisfied: thinc<8.1.0,>=8.0.12 in /Users/lngeorge/anaconda3/lib/python3.10/site-packages (from spacy<3.3.0,>=3.2.0->en-core-web-sm==3.2.0) (8.0.17)\n",
      "Requirement already satisfied: blis<0.8.0,>=0.4.0 in /Users/lngeorge/anaconda3/lib/python3.10/site-packages (from spacy<3.3.0,>=3.2.0->en-core-web-sm==3.2.0) (0.7.11)\n",
      "Requirement already satisfied: wasabi<1.1.0,>=0.8.1 in /Users/lngeorge/anaconda3/lib/python3.10/site-packages (from spacy<3.3.0,>=3.2.0->en-core-web-sm==3.2.0) (0.9.1)\n",
      "Requirement already satisfied: srsly<3.0.0,>=2.4.1 in /Users/lngeorge/anaconda3/lib/python3.10/site-packages (from spacy<3.3.0,>=3.2.0->en-core-web-sm==3.2.0) (2.4.8)\n",
      "Requirement already satisfied: catalogue<2.1.0,>=2.0.6 in /Users/lngeorge/anaconda3/lib/python3.10/site-packages (from spacy<3.3.0,>=3.2.0->en-core-web-sm==3.2.0) (2.0.10)\n",
      "Requirement already satisfied: typer<0.5.0,>=0.3.0 in /Users/lngeorge/anaconda3/lib/python3.10/site-packages (from spacy<3.3.0,>=3.2.0->en-core-web-sm==3.2.0) (0.4.1)\n",
      "Requirement already satisfied: click<8.1.0 in /Users/lngeorge/anaconda3/lib/python3.10/site-packages (from spacy<3.3.0,>=3.2.0->en-core-web-sm==3.2.0) (8.0.4)\n",
      "Requirement already satisfied: pathy>=0.3.5 in /Users/lngeorge/anaconda3/lib/python3.10/site-packages (from spacy<3.3.0,>=3.2.0->en-core-web-sm==3.2.0) (0.10.3)\n",
      "Requirement already satisfied: tqdm<5.0.0,>=4.38.0 in /Users/lngeorge/anaconda3/lib/python3.10/site-packages (from spacy<3.3.0,>=3.2.0->en-core-web-sm==3.2.0) (4.65.0)\n",
      "Requirement already satisfied: numpy>=1.15.0 in /Users/lngeorge/anaconda3/lib/python3.10/site-packages (from spacy<3.3.0,>=3.2.0->en-core-web-sm==3.2.0) (1.25.2)\n",
      "Requirement already satisfied: requests<3.0.0,>=2.13.0 in /Users/lngeorge/anaconda3/lib/python3.10/site-packages (from spacy<3.3.0,>=3.2.0->en-core-web-sm==3.2.0) (2.31.0)\n",
      "Requirement already satisfied: pydantic!=1.8,!=1.8.1,<1.9.0,>=1.7.4 in /Users/lngeorge/anaconda3/lib/python3.10/site-packages (from spacy<3.3.0,>=3.2.0->en-core-web-sm==3.2.0) (1.8.2)\n",
      "Requirement already satisfied: jinja2 in /Users/lngeorge/anaconda3/lib/python3.10/site-packages (from spacy<3.3.0,>=3.2.0->en-core-web-sm==3.2.0) (3.1.2)\n",
      "Requirement already satisfied: setuptools in /Users/lngeorge/anaconda3/lib/python3.10/site-packages (from spacy<3.3.0,>=3.2.0->en-core-web-sm==3.2.0) (68.0.0)\n",
      "Requirement already satisfied: packaging>=20.0 in /Users/lngeorge/anaconda3/lib/python3.10/site-packages (from spacy<3.3.0,>=3.2.0->en-core-web-sm==3.2.0) (23.1)\n",
      "Requirement already satisfied: langcodes<4.0.0,>=3.2.0 in /Users/lngeorge/anaconda3/lib/python3.10/site-packages (from spacy<3.3.0,>=3.2.0->en-core-web-sm==3.2.0) (3.3.0)\n",
      "Requirement already satisfied: smart-open<7.0.0,>=5.2.1 in /Users/lngeorge/anaconda3/lib/python3.10/site-packages (from pathy>=0.3.5->spacy<3.3.0,>=3.2.0->en-core-web-sm==3.2.0) (5.2.1)\n",
      "Requirement already satisfied: typing-extensions>=3.7.4.3 in /Users/lngeorge/anaconda3/lib/python3.10/site-packages (from pydantic!=1.8,!=1.8.1,<1.9.0,>=1.7.4->spacy<3.3.0,>=3.2.0->en-core-web-sm==3.2.0) (4.7.1)\n",
      "Requirement already satisfied: charset-normalizer<4,>=2 in /Users/lngeorge/anaconda3/lib/python3.10/site-packages (from requests<3.0.0,>=2.13.0->spacy<3.3.0,>=3.2.0->en-core-web-sm==3.2.0) (2.0.4)\n",
      "Requirement already satisfied: idna<4,>=2.5 in /Users/lngeorge/anaconda3/lib/python3.10/site-packages (from requests<3.0.0,>=2.13.0->spacy<3.3.0,>=3.2.0->en-core-web-sm==3.2.0) (3.4)\n",
      "Requirement already satisfied: urllib3<3,>=1.21.1 in /Users/lngeorge/anaconda3/lib/python3.10/site-packages (from requests<3.0.0,>=2.13.0->spacy<3.3.0,>=3.2.0->en-core-web-sm==3.2.0) (1.26.18)\n",
      "Requirement already satisfied: certifi>=2017.4.17 in /Users/lngeorge/anaconda3/lib/python3.10/site-packages (from requests<3.0.0,>=2.13.0->spacy<3.3.0,>=3.2.0->en-core-web-sm==3.2.0) (2024.2.2)\n",
      "Requirement already satisfied: MarkupSafe>=2.0 in /Users/lngeorge/anaconda3/lib/python3.10/site-packages (from jinja2->spacy<3.3.0,>=3.2.0->en-core-web-sm==3.2.0) (2.1.1)\n",
      "\u001b[38;5;2m✔ Download and installation successful\u001b[0m\n",
      "You can now load the package via spacy.load('en_core_web_sm')\n"
     ]
    }
   ],
   "source": [
    "!python -m spacy download en_core_web_sm"
   ]
  },
  {
   "cell_type": "code",
   "execution_count": 4,
   "metadata": {
    "deletable": false,
    "editable": false,
    "tags": []
   },
   "outputs": [],
   "source": [
    "import re\n",
    "import pandas as pd\n",
    "import spacy\n",
    "from spacy.tokenizer import Tokenizer\n",
    "from bs4 import BeautifulSoup\n",
    "\n",
    "import warnings\n",
    "warnings.filterwarnings(\"ignore\") "
   ]
  },
  {
   "cell_type": "markdown",
   "metadata": {
    "deletable": false,
    "editable": false
   },
   "source": [
    "## Text Extraction   - [3 Marks]\n",
    "\n",
    "The text you are going to work with corresponds to the following post from the Food and Agriculture Organization of the United Nations website: [World food prices dip in December](https://www.fao.org/newsroom/detail/world-food-prices-dip-in-december/en).\n",
    "\n",
    "In a more realistic scenario, you should download the html document yourself. This could be done with the following code snippet:\n",
    "\n",
    ">```python\n",
    "import requests\n",
    "URL = \"https://www.fao.org/newsroom/detail/world-food-prices-dip-in-december/en\"\n",
    "page = requests.get(URL)\n",
    "html_content = page.content\n",
    "\n",
    "However, for this assignment, you are provided with the downloaded document. The file`world-food-prices.html` can be found in the same directory as this notebook and it can be opened as a regular text file:"
   ]
  },
  {
   "cell_type": "code",
   "execution_count": 6,
   "metadata": {
    "deletable": false,
    "editable": false,
    "tags": []
   },
   "outputs": [
    {
     "data": {
      "text/plain": [
       "' <!DOCTYPE html> <html lang=\"en\"> <head> <meta charset=\"utf-8\" /> <meta name=\"viewport\" content=\"width=device-width, initial-scale=1, shrink-to-fit=no\"> <title>\\n\\tWorld food prices dip in December\\n</title> <script src=\"/ScriptResource.axd?d=okuX3IVIBwfJlfEQK32K3hu4wA2qYZOscmtsXGLNMaT1SeSa2ByRKpPz9pkmicdQmLZjrfXbzQg-t-PYtREZ1mv-AHy-XqG8V1C8KEuJc1LwVjfZ2AWtsXusqOzwjxwAkWajaiTob5rdLJ_1Q_rhyISygdJ2WS4kb3-Mf0bSt_7dAdqZ2JnDovQKGlnv0vvH0&amp;t=ffffffffb0940fc0\" type=\"text/javascript\"></script><script src=\"/ScriptResource.axd?d=ePnjFy9PuY6CB3GWMX-b_9Fw4jG3rW51lh6cTRiQ1f_9YOhRVOpDf4gVRQwVzn4JRlDVp-Aj_GWhYCgMY8uVHBZj_w4a27EVOxonvJSMs3yERFILsgdOHu7up3GVU-jExdmK0YWhyY1E0W4ye5rzFrSYUigZQBN7nFt18-5XwfQs2ZTBZ5-Na5q3Phaw58Dx0&amp;t=ffffffffb0940fc0\" type=\"text/javascript\"></script><script src=\"https://cse.google.com/cse.js?cx=018170620143701104933%3Aqq82jsfba7w\" type=\"text/javascript\"></script><link href=\"/ResourcePackages/FAO/assets/dist/css/bootstrap.min.css?v=5.2.0&amp;package=FAO\" rel=\"stylesheet\" type=\"text/css\" /> <link href=\"/ResourcePackages/FAO/assets/dist/css/fao-theme.min.css?v=2.6.6&amp;package=FAO\" rel=\"stylesheet\" type=\"text/css\" /> <!-- Google Tag Manager -->\\n<script>(function(w,d,s,l,i){w[l]=w[l]||[];w[l].push({\\'gtm.start\\':\\nnew Date().getTime(),event:\\'gtm.js\\'});var f=d.getElementsByTagName(s)[0],\\nj=d.createElement(s),dl=l!=\\'dataLayer\\'?\\'&l=\\'+l:\\'\\';j.async=true;j.src=\\n\\'https://www.googletagmanager.com/gtm.js?id=\\'+i+dl;f.parentNode.insertBefore(j,f);\\n})(window,document,\\'script\\',\\'d'"
      ]
     },
     "execution_count": 6,
     "metadata": {},
     "output_type": "execute_result"
    }
   ],
   "source": [
    "with open(\"world-food-prices.html\", encoding=\"utf8\") as html_file:\n",
    "    html_content = html_file.read()\n",
    "html_content[:1500]"
   ]
  },
  {
   "cell_type": "markdown",
   "metadata": {
    "deletable": false
   },
   "source": [
    " As you can see the document contains a lot of html tags as well as some **javascript** code. The text also includes fields that are not of interest, such as the navigation menu of the web page. The goal of the first step in this assignment is to extract only the text from the body of the post.   \n",
    "\n",
    "To do this, you must complete the code for the `extract_text` function. This function should parse the content of the html document using the **BeatifulSoup** library, find the html element containing the text of the body of the post, and extract such text. The body of the post is contained by the element with the following **id**: `\"Contentplaceholder1_C011_Col00\"`. Review the [BeautifullSoup documentation](https://beautiful-soup-4.readthedocs.io/en/latest/index.html) to learn how to perform these steps.\n",
    "\n",
    "\n",
    "The function must return the text extracted of which the first 579 characters should look like this:\n",
    "\n",
    "\n",
    "><pre>'\\n\\n\\n\\n\\n\\n\\n\\n\\n\\nWorld food prices dip in December\\nFAO Food Price Index ends 2022 lower than a year earlier\\n\\n\\n\\n\\n                                A farmer in Sicily carrying wheat seeds.\\n                             \\n\\n©FAO/Giorgio Cosulich \\n\\n\\n\\n\\n06/01/2023\\n\\n\\nRome – The index of world food prices dipped for the ninth consecutive month in December 2022, declining by 1.9 percent from the previous month, the Food and Agriculture Organization of the United Nations (FAO) reported today. The FAO Food Price Index averaged 132.4 points in December, 1.0 percent below its value a year earlier.'</pre>"
   ]
  },
  {
   "cell_type": "code",
   "execution_count": 11,
   "metadata": {},
   "outputs": [],
   "source": [
    "def extract_text(html_content):\n",
    "    soup = BeautifulSoup(html_content, \"html.parser\")\n",
    "    element = soup.find(id='Contentplaceholder1_C011_Col00')\n",
    "    return element.get_text(strip=False)"
   ]
  },
  {
   "cell_type": "code",
   "execution_count": 13,
   "metadata": {
    "deletable": false,
    "editable": false
   },
   "outputs": [
    {
     "data": {
      "text/plain": [
       "'\\n\\n\\n\\n\\n\\n\\n\\n\\n\\nWorld food prices dip in December\\nFAO Food Price Index ends 2022 lower than a year earlier\\n\\n\\n\\n\\n                                A farmer in Sicily carrying wheat seeds.\\n                             \\n\\n©FAO/Giorgio Cosulich \\n\\n\\n\\n\\n06/01/2023\\n\\n\\nRome – The index of world food prices dipped for the ninth consecutive month in December 2022, declining by 1.9 percent from the previous month, the Food and Agriculture Organization of the United Nations (FAO) reported today. The FAO Food Price Index averaged 132.4 points in December, 1.0 percent below its value a year earlier. '"
      ]
     },
     "execution_count": 13,
     "metadata": {},
     "output_type": "execute_result"
    }
   ],
   "source": [
    "text = extract_text(html_content)\n",
    "text[:580]"
   ]
  },
  {
   "cell_type": "markdown",
   "metadata": {
    "deletable": false
   },
   "source": [
    "## Text Cleanup  - [3 Marks]\n",
    "\n",
    " The text extracted by `extract_text` is not still ready to use. It contains several newline characters and additional spaces that make the text noisy. In the next step of the assignment, you must complete the code for the function `clean_text`. The function should take the text and delete all those newline characters and extra blank spaces. The function should also add a period to the end of those sentences that do not originally contain it, for example, `World food prices dip in December` or `06/01/2023`.\n",
    "\n",
    "You can solve this exercise using the **Python** built-in [string methods](https://docs.python.org/3.9/library/stdtypes.html?highlight=replace#str), such as `replace`, or by [regular expressions](https://docs.python.org/3.9/library/re.html?highlight=re#module-re).\n",
    "\n",
    "The `extract_text` function must return the cleaned text of which the first 499 characters should look like this:\n",
    "\n",
    ">'World food prices dip in December. FAO Food Price Index ends 2022 lower than a year earlier. A farmer in Sicily carrying wheat seeds. ©FAO/Giorgio Cosulich. 06/01/2023. Rome – The index of world food prices dipped for the ninth consecutive month in December 2022, declining by 1.9 percent from the previous month, the Food and Agriculture Organization of the United Nations (FAO) reported today. The FAO Food Price Index averaged 132.4 points in December, 1.0 percent below its value a year earlier.'"
   ]
  },
  {
   "cell_type": "code",
   "execution_count": 16,
   "metadata": {},
   "outputs": [],
   "source": [
    "def clean_text(text):\n",
    "    sentences = map(lambda x : x.strip(), text.split('\\n'))\n",
    "    sentences = filter(lambda x : len(x) !=0, sentences)\n",
    "    cleaned_text_sentences = map(lambda x : x if x[-1]!='.' else x[:-1], sentences)\n",
    "    return \". \".join(cleaned_text_sentences)"
   ]
  },
  {
   "cell_type": "code",
   "execution_count": 18,
   "metadata": {
    "deletable": false,
    "editable": false
   },
   "outputs": [
    {
     "data": {
      "text/plain": [
       "'World food prices dip in December. FAO Food Price Index ends 2022 lower than a year earlier. A farmer in Sicily carrying wheat seeds. ©FAO/Giorgio Cosulich. 06/01/2023. Rome – The index of world food prices dipped for the ninth consecutive month in December 2022, declining by 1.9 percent from the previous month, the Food and Agriculture Organization of the United Nations (FAO) reported today. The FAO Food Price Index averaged 132.4 points in December, 1.0 percent below its value a year earlier.'"
      ]
     },
     "execution_count": 18,
     "metadata": {},
     "output_type": "execute_result"
    }
   ],
   "source": [
    "cleaned_text = clean_text(text)\n",
    "cleaned_text[:499]"
   ]
  },
  {
   "cell_type": "markdown",
   "metadata": {
    "deletable": false
   },
   "source": [
    "## Pre-processing  - [3 Marks]\n",
    "\n",
    "Once the text has been extracted and cleaned up, the next step you must take is to pre-process it. For this, in this assignment, you are going to use the [spaCy](https://spacy.io/) library. This library is an advanced NLP toolkit that allows to execute various pre-processing steps as well as different NLP tasks. **spaCy** provides trained [pipelines](https://spacy.io/usage/processing-pipelines) for a variety of languages that can be installed as individual **Python** modules and include [linguistic featues](https://spacy.io/usage/linguistic-features) such as:\n",
    "\n",
    "- Sentence Segmentation\n",
    "- Tokenization\n",
    "- Stemming and Lemmatization\n",
    "- Stopwords\n",
    "- Part-of-speech tagging\n",
    "- Syntactic dependency parsing\n",
    "- Named Entity Recognition\n",
    "- Word Embeddings\n",
    "\n",
    "In this exercise, you will work with the [English pipeline optimized for CPU](https://spacy.io/models/en#en_core_web_sm) that can be loaded as follows:"
   ]
  },
  {
   "cell_type": "code",
   "execution_count": 21,
   "metadata": {
    "deletable": false,
    "editable": false
   },
   "outputs": [],
   "source": [
    "nlp = spacy.load(\"en_core_web_sm\")"
   ]
  },
  {
   "cell_type": "markdown",
   "metadata": {
    "deletable": false
   },
   "source": [
    " You must complete the code for the `preprocess_text` function. This function takes the text and a **spaCy** pipeline as input and should run that pipeline on the text. The function must return a [Doc](https://spacy.io/api/doc) object. Check the [spaCy 101](https://spacy.io/usage/spacy-101) documentation to learn how to apply the pipeline."
   ]
  },
  {
   "cell_type": "code",
   "execution_count": 24,
   "metadata": {},
   "outputs": [],
   "source": [
    "def process_text(text, nlp):\n",
    "    return nlp(text)"
   ]
  },
  {
   "cell_type": "code",
   "execution_count": 26,
   "metadata": {
    "deletable": false,
    "editable": false
   },
   "outputs": [
    {
     "data": {
      "text/plain": [
       "True"
      ]
     },
     "execution_count": 26,
     "metadata": {},
     "output_type": "execute_result"
    }
   ],
   "source": [
    "doc = process_text(cleaned_text, nlp)\n",
    "all(map(doc.has_annotation, [\"LEMMA\", \"POS\", \"ENT_TYPE\"]))"
   ]
  },
  {
   "cell_type": "markdown",
   "metadata": {
    "deletable": false
   },
   "source": [
    "## Creating a DataFrame  - [3 Marks]\n",
    "\n",
    "In the next exercise, you will create a [pandas DataFrame](https://pandas.pydata.org/docs/reference/api/pandas.DataFrame.html) that will contain some of the linguistic annotations from the `Doc` object obtained in the previous step. Loading the data into a `DataFrame` provides some advantages such as a better integration with other **Python** machine learning libraries or the option to save the data in a csv file.\n",
    "\n",
    "The goal is to create a `DataFrame` that contains a row per each token in the `Doc` and the following columns:\n",
    "- *sent_id*: The id of the sentence the token belongs to. It represents the position of the sentence in the `Doc`, starting by 0.\n",
    "- *token_id*: The id of the token. It represents the position of the token in the sentence, starting by 0.\n",
    "- *text*: The original text of the token.\n",
    "- *lemma*: The lemmatization of the token.\n",
    "- *pos*: The part-of-speech of the token.\n",
    "- *ent*: The entity type of the token returned by the Named Entity Recognition component.\n",
    "\n",
    "You must complete the code for the `to_dataframe` function. This function takes the [Doc](https://spacy.io/api/doc) object and must return the `DataFrame` described above. The function should iterate over the sentences in the `Doc` (each sentence is a [Span](https://spacy.io/api/span) object) and, for each sentence, it should iterate over its tokens (each token is a [Token](https://spacy.io/api/token) object). For each token, `to_dataframe` should obtain the values to fill the *text*, *lemma*, *pos* and *ent* columns of the `DataFrame`. For example, the content of the `DataFrame` for the setence with *sent_id* equal to 1, corresponding to the second sentence in the `Doc`, should look like this:\n",
    "\n",
    "|    |   sent_id |   token_id | text    | lemma   | pos   | ent   |\n",
    "|---:|----------:|-----------:|:--------|:--------|:------|:------|\n",
    "|  7 |         1 |          0 | FAO     | FAO     | PROPN | ORG   |\n",
    "|  8 |         1 |          1 | Food    | Food    | PROPN | ORG   |\n",
    "|  9 |         1 |          2 | Price   | Price   | PROPN | ORG   |\n",
    "| 10 |         1 |          3 | Index   | Index   | PROPN | ORG   |\n",
    "| 11 |         1 |          4 | ends    | end     | VERB  |       |\n",
    "| 12 |         1 |          5 | 2022    | 2022    | NUM   | DATE  |\n",
    "| 13 |         1 |          6 | lower   | low     | ADJ   |       |\n",
    "| 14 |         1 |          7 | than    | than    | ADP   |       |\n",
    "| 15 |         1 |          8 | a       | a       | DET   | DATE  |\n",
    "| 16 |         1 |          9 | year    | year    | NOUN  | DATE  |\n",
    "| 17 |         1 |         10 | earlier | early   | ADV   | DATE  |\n",
    "| 18 |         1 |         11 | .       | .       | PUNCT |       |\n"
   ]
  },
  {
   "cell_type": "code",
   "execution_count": 29,
   "metadata": {},
   "outputs": [],
   "source": [
    "def to_dataframe(doc):\n",
    "    data = []\n",
    "    for sent_id, sent in enumerate(doc.sents):\n",
    "        for token_id, token in enumerate(sent):\n",
    "            data.append({\n",
    "                'sent_id': sent_id,\n",
    "                'token_id': token_id,\n",
    "                'text': token.text,\n",
    "                'lemma': token.lemma_,\n",
    "                'pos': token.pos_,\n",
    "                'ent': token.ent_type_ \n",
    "            })\n",
    "    return pd.DataFrame(data)"
   ]
  },
  {
   "cell_type": "code",
   "execution_count": 31,
   "metadata": {
    "deletable": false,
    "editable": false
   },
   "outputs": [
    {
     "data": {
      "text/html": [
       "<div>\n",
       "<style scoped>\n",
       "    .dataframe tbody tr th:only-of-type {\n",
       "        vertical-align: middle;\n",
       "    }\n",
       "\n",
       "    .dataframe tbody tr th {\n",
       "        vertical-align: top;\n",
       "    }\n",
       "\n",
       "    .dataframe thead th {\n",
       "        text-align: right;\n",
       "    }\n",
       "</style>\n",
       "<table border=\"1\" class=\"dataframe\">\n",
       "  <thead>\n",
       "    <tr style=\"text-align: right;\">\n",
       "      <th></th>\n",
       "      <th>sent_id</th>\n",
       "      <th>token_id</th>\n",
       "      <th>text</th>\n",
       "      <th>lemma</th>\n",
       "      <th>pos</th>\n",
       "      <th>ent</th>\n",
       "    </tr>\n",
       "  </thead>\n",
       "  <tbody>\n",
       "    <tr>\n",
       "      <th>7</th>\n",
       "      <td>1</td>\n",
       "      <td>0</td>\n",
       "      <td>FAO</td>\n",
       "      <td>FAO</td>\n",
       "      <td>PROPN</td>\n",
       "      <td>ORG</td>\n",
       "    </tr>\n",
       "    <tr>\n",
       "      <th>8</th>\n",
       "      <td>1</td>\n",
       "      <td>1</td>\n",
       "      <td>Food</td>\n",
       "      <td>Food</td>\n",
       "      <td>PROPN</td>\n",
       "      <td>ORG</td>\n",
       "    </tr>\n",
       "    <tr>\n",
       "      <th>9</th>\n",
       "      <td>1</td>\n",
       "      <td>2</td>\n",
       "      <td>Price</td>\n",
       "      <td>Price</td>\n",
       "      <td>PROPN</td>\n",
       "      <td>ORG</td>\n",
       "    </tr>\n",
       "    <tr>\n",
       "      <th>10</th>\n",
       "      <td>1</td>\n",
       "      <td>3</td>\n",
       "      <td>Index</td>\n",
       "      <td>Index</td>\n",
       "      <td>PROPN</td>\n",
       "      <td>ORG</td>\n",
       "    </tr>\n",
       "    <tr>\n",
       "      <th>11</th>\n",
       "      <td>1</td>\n",
       "      <td>4</td>\n",
       "      <td>ends</td>\n",
       "      <td>end</td>\n",
       "      <td>VERB</td>\n",
       "      <td></td>\n",
       "    </tr>\n",
       "    <tr>\n",
       "      <th>12</th>\n",
       "      <td>1</td>\n",
       "      <td>5</td>\n",
       "      <td>2022</td>\n",
       "      <td>2022</td>\n",
       "      <td>NUM</td>\n",
       "      <td>DATE</td>\n",
       "    </tr>\n",
       "    <tr>\n",
       "      <th>13</th>\n",
       "      <td>1</td>\n",
       "      <td>6</td>\n",
       "      <td>lower</td>\n",
       "      <td>low</td>\n",
       "      <td>ADJ</td>\n",
       "      <td></td>\n",
       "    </tr>\n",
       "    <tr>\n",
       "      <th>14</th>\n",
       "      <td>1</td>\n",
       "      <td>7</td>\n",
       "      <td>than</td>\n",
       "      <td>than</td>\n",
       "      <td>ADP</td>\n",
       "      <td></td>\n",
       "    </tr>\n",
       "    <tr>\n",
       "      <th>15</th>\n",
       "      <td>1</td>\n",
       "      <td>8</td>\n",
       "      <td>a</td>\n",
       "      <td>a</td>\n",
       "      <td>DET</td>\n",
       "      <td>DATE</td>\n",
       "    </tr>\n",
       "    <tr>\n",
       "      <th>16</th>\n",
       "      <td>1</td>\n",
       "      <td>9</td>\n",
       "      <td>year</td>\n",
       "      <td>year</td>\n",
       "      <td>NOUN</td>\n",
       "      <td>DATE</td>\n",
       "    </tr>\n",
       "    <tr>\n",
       "      <th>17</th>\n",
       "      <td>1</td>\n",
       "      <td>10</td>\n",
       "      <td>earlier</td>\n",
       "      <td>early</td>\n",
       "      <td>ADV</td>\n",
       "      <td>DATE</td>\n",
       "    </tr>\n",
       "    <tr>\n",
       "      <th>18</th>\n",
       "      <td>1</td>\n",
       "      <td>11</td>\n",
       "      <td>.</td>\n",
       "      <td>.</td>\n",
       "      <td>PUNCT</td>\n",
       "      <td></td>\n",
       "    </tr>\n",
       "  </tbody>\n",
       "</table>\n",
       "</div>"
      ],
      "text/plain": [
       "    sent_id  token_id     text  lemma    pos   ent\n",
       "7         1         0      FAO    FAO  PROPN   ORG\n",
       "8         1         1     Food   Food  PROPN   ORG\n",
       "9         1         2    Price  Price  PROPN   ORG\n",
       "10        1         3    Index  Index  PROPN   ORG\n",
       "11        1         4     ends    end   VERB      \n",
       "12        1         5     2022   2022    NUM  DATE\n",
       "13        1         6    lower    low    ADJ      \n",
       "14        1         7     than   than    ADP      \n",
       "15        1         8        a      a    DET  DATE\n",
       "16        1         9     year   year   NOUN  DATE\n",
       "17        1        10  earlier  early    ADV  DATE\n",
       "18        1        11        .      .  PUNCT      "
      ]
     },
     "execution_count": 31,
     "metadata": {},
     "output_type": "execute_result"
    }
   ],
   "source": [
    "df = to_dataframe(doc)\n",
    "df[df.sent_id == 1]"
   ]
  },
  {
   "cell_type": "markdown",
   "metadata": {
    "deletable": false
   },
   "source": [
    "## Cutomizing the Tokenizer  - [3 Marks]\n",
    "\n",
    "The default components of a **spaCy** pipeline will not always behave according to the needs of your projects. For example, the default tokenizer of the `en_core_web_sm` pipeline does not always splits dates in `month/day/year` format into `month`, `day` and `year`. This is the case for the sentence with *sent_id* equal to 4 that only includes a date in that format:\n",
    "\n",
    "|    |   sent_id |   token_id | text       | lemma      | pos   | ent   |\n",
    "|---:|----------:|-----------:|:-----------|:-----------|:------|:------|\n",
    "| 32 |         4 |          0 | 06/01/2023 | 06/01/2023 | NUM   |       |\n",
    "| 33 |         4 |          1 | .          | .          | PUNCT |       |\n",
    "\n",
    "The goal of the last exercise of this task is to update the `en_core_web_sm` pipeline with a custom tokenizer that forces the splitting of dates in `month/day/year` format so that the sentence above looks like this:\n",
    "\n",
    "|    |   sent_id |   token_id | text   | lemma   | pos   | ent      |\n",
    "|---:|----------:|-----------:|:-------|:--------|:------|:---------|\n",
    "| 32 |         4 |          0 | 06     | 06      | NUM   | CARDINAL |\n",
    "| 33 |         4 |          1 | /      | /       | SYM   |          |\n",
    "| 34 |         4 |          2 | 01     | 01      | NUM   |          |\n",
    "| 35 |         4 |          3 | /      | /       | SYM   |          |\n",
    "| 36 |         4 |          4 | 2023   | 2023    | NUM   |          |\n",
    "| 37 |         4 |          5 | .      | .       | PUNCT |          |\n",
    "\n",
    "You must complete the code for the `customize_tokenizer` function. The function takes the **spaCy** pipeline as input. It should updated the infixes rules of the tokenizer and return the updated version of the pipeline including the customized tokenizer. The `Tokenizer` must keep the default vocabulary and all the default prefixes, infixes and suffixes rules of the pipeline. You should only update the infixes rules adding a regular expression that captures slash (`/`) characters. The `Tokenizer` should **not** include special cases or rules for token and url matching. Check the [spacy's documentation](https://spacy.io/usage/linguistic-features#native-tokenizers) to learn how to customize the tokenizer."
   ]
  },
  {
   "cell_type": "code",
   "execution_count": 34,
   "metadata": {
    "tags": []
   },
   "outputs": [
    {
     "data": {
      "text/html": [
       "<div>\n",
       "<style scoped>\n",
       "    .dataframe tbody tr th:only-of-type {\n",
       "        vertical-align: middle;\n",
       "    }\n",
       "\n",
       "    .dataframe tbody tr th {\n",
       "        vertical-align: top;\n",
       "    }\n",
       "\n",
       "    .dataframe thead th {\n",
       "        text-align: right;\n",
       "    }\n",
       "</style>\n",
       "<table border=\"1\" class=\"dataframe\">\n",
       "  <thead>\n",
       "    <tr style=\"text-align: right;\">\n",
       "      <th></th>\n",
       "      <th>sent_id</th>\n",
       "      <th>token_id</th>\n",
       "      <th>text</th>\n",
       "      <th>lemma</th>\n",
       "      <th>pos</th>\n",
       "      <th>ent</th>\n",
       "    </tr>\n",
       "  </thead>\n",
       "  <tbody>\n",
       "    <tr>\n",
       "      <th>33</th>\n",
       "      <td>4</td>\n",
       "      <td>0</td>\n",
       "      <td>06/01/2023</td>\n",
       "      <td>06/01/2023</td>\n",
       "      <td>NUM</td>\n",
       "      <td></td>\n",
       "    </tr>\n",
       "    <tr>\n",
       "      <th>34</th>\n",
       "      <td>4</td>\n",
       "      <td>1</td>\n",
       "      <td>.</td>\n",
       "      <td>.</td>\n",
       "      <td>PUNCT</td>\n",
       "      <td></td>\n",
       "    </tr>\n",
       "  </tbody>\n",
       "</table>\n",
       "</div>"
      ],
      "text/plain": [
       "    sent_id  token_id        text       lemma    pos ent\n",
       "33        4         0  06/01/2023  06/01/2023    NUM    \n",
       "34        4         1           .           .  PUNCT    "
      ]
     },
     "execution_count": 34,
     "metadata": {},
     "output_type": "execute_result"
    }
   ],
   "source": [
    "df[df.sent_id == 4]"
   ]
  },
  {
   "cell_type": "code",
   "execution_count": 36,
   "metadata": {},
   "outputs": [],
   "source": [
    "def customize_tokenizer(nlp):\n",
    "    infixes = nlp.Defaults.infixes + [r'/']\n",
    "    infix_regex = spacy.util.compile_infix_regex(infixes)\n",
    "    nlp.tokenizer.infix_finditer = infix_regex.finditer\n",
    "    return nlp"
   ]
  },
  {
   "cell_type": "code",
   "execution_count": 38,
   "metadata": {
    "deletable": false,
    "editable": false
   },
   "outputs": [
    {
     "data": {
      "text/html": [
       "<div>\n",
       "<style scoped>\n",
       "    .dataframe tbody tr th:only-of-type {\n",
       "        vertical-align: middle;\n",
       "    }\n",
       "\n",
       "    .dataframe tbody tr th {\n",
       "        vertical-align: top;\n",
       "    }\n",
       "\n",
       "    .dataframe thead th {\n",
       "        text-align: right;\n",
       "    }\n",
       "</style>\n",
       "<table border=\"1\" class=\"dataframe\">\n",
       "  <thead>\n",
       "    <tr style=\"text-align: right;\">\n",
       "      <th></th>\n",
       "      <th>sent_id</th>\n",
       "      <th>token_id</th>\n",
       "      <th>text</th>\n",
       "      <th>lemma</th>\n",
       "      <th>pos</th>\n",
       "      <th>ent</th>\n",
       "    </tr>\n",
       "  </thead>\n",
       "  <tbody>\n",
       "    <tr>\n",
       "      <th>33</th>\n",
       "      <td>4</td>\n",
       "      <td>0</td>\n",
       "      <td>06</td>\n",
       "      <td>06</td>\n",
       "      <td>NUM</td>\n",
       "      <td>CARDINAL</td>\n",
       "    </tr>\n",
       "    <tr>\n",
       "      <th>34</th>\n",
       "      <td>4</td>\n",
       "      <td>1</td>\n",
       "      <td>/</td>\n",
       "      <td>/</td>\n",
       "      <td>SYM</td>\n",
       "      <td></td>\n",
       "    </tr>\n",
       "    <tr>\n",
       "      <th>35</th>\n",
       "      <td>4</td>\n",
       "      <td>2</td>\n",
       "      <td>01</td>\n",
       "      <td>01</td>\n",
       "      <td>NUM</td>\n",
       "      <td></td>\n",
       "    </tr>\n",
       "    <tr>\n",
       "      <th>36</th>\n",
       "      <td>4</td>\n",
       "      <td>3</td>\n",
       "      <td>/</td>\n",
       "      <td>/</td>\n",
       "      <td>SYM</td>\n",
       "      <td></td>\n",
       "    </tr>\n",
       "    <tr>\n",
       "      <th>37</th>\n",
       "      <td>4</td>\n",
       "      <td>4</td>\n",
       "      <td>2023</td>\n",
       "      <td>2023</td>\n",
       "      <td>NUM</td>\n",
       "      <td></td>\n",
       "    </tr>\n",
       "    <tr>\n",
       "      <th>38</th>\n",
       "      <td>4</td>\n",
       "      <td>5</td>\n",
       "      <td>.</td>\n",
       "      <td>.</td>\n",
       "      <td>PUNCT</td>\n",
       "      <td></td>\n",
       "    </tr>\n",
       "  </tbody>\n",
       "</table>\n",
       "</div>"
      ],
      "text/plain": [
       "    sent_id  token_id  text lemma    pos       ent\n",
       "33        4         0    06    06    NUM  CARDINAL\n",
       "34        4         1     /     /    SYM          \n",
       "35        4         2    01    01    NUM          \n",
       "36        4         3     /     /    SYM          \n",
       "37        4         4  2023  2023    NUM          \n",
       "38        4         5     .     .  PUNCT          "
      ]
     },
     "execution_count": 38,
     "metadata": {},
     "output_type": "execute_result"
    }
   ],
   "source": [
    "customized_nlp = customize_tokenizer(nlp)\n",
    "doc = process_text(cleaned_text, customized_nlp)\n",
    "df = to_dataframe(doc)\n",
    "df[df.sent_id == 4]"
   ]
  },
  {
   "cell_type": "code",
   "execution_count": null,
   "metadata": {},
   "outputs": [],
   "source": []
  }
 ],
 "metadata": {
  "celltoolbar": "Edit Metadata",
  "kernelspec": {
   "display_name": "Python 3 (ipykernel)",
   "language": "python",
   "name": "python3"
  },
  "language_info": {
   "codemirror_mode": {
    "name": "ipython",
    "version": 3
   },
   "file_extension": ".py",
   "mimetype": "text/x-python",
   "name": "python",
   "nbconvert_exporter": "python",
   "pygments_lexer": "ipython3",
   "version": "3.10.13"
  }
 },
 "nbformat": 4,
 "nbformat_minor": 4
}
